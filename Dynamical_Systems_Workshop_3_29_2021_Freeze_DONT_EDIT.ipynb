{
  "nbformat": 4,
  "nbformat_minor": 0,
  "metadata": {
    "colab": {
      "name": "Dynamical Systems Workshop -- 3.29.2021 Freeze -- DONT EDIT",
      "provenance": [],
      "collapsed_sections": []
    },
    "kernelspec": {
      "name": "python3",
      "display_name": "Python 3"
    }
  },
  "cells": [
    {
      "cell_type": "markdown",
      "metadata": {
        "id": "3JZvIZqsc8Aa"
      },
      "source": [
        "# Dynamical Systems: An Introduction\n",
        "\n",
        "*(Adapted from Neuromatch Academy 2020, Week 2, Day 2, Tutorial 1)* https://colab.research.google.com/github/NeuromatchAcademy/course-content/blob/master/tutorials/W2D2_LinearSystems/student/W2D2_Tutorial1.ipynb\n",
        "\n",
        "*Adriano Borsa, Mattia Rigotti --- CNTP March Workshop*\n",
        "\n",
        "## Definition\n",
        "\n",
        "A **dynamical system** is a system which evolves in time, for which the rules defining this time evolution can be described using a differential equation:\n",
        "\n",
        "$\\dot{x} = f(x)$,  \n",
        "\n",
        "where $x$ is the state of the system and $\\dot{x}$ is short-hand notation for $\\frac{dx}{dt}$, that is, the derivative of $x$ with respect to time. The above equation then defines the rate of change of the system state as a function of the current state. In other words, given a certain state $x$, we can compute the direction in which this state will evolve across time.\n",
        "\n",
        "**Note**: It is also possible for the dynamical system to be parametrized by time ($t$) or external inputs ($u$), in which case we would write:\n",
        "\n",
        "$\\dot{x} = f(x,t,u)$.\n",
        "\n",
        "But, for today, we will focus on **autonomous/time-invariant** dynamical systems whose dynamics depend only on the current state."
      ]
    },
    {
      "cell_type": "markdown",
      "metadata": {
        "id": "KD6oyyT7OoYc"
      },
      "source": [
        "## One-Dimensional Linear Differential Equations\n",
        "\n",
        "Some of the simplest dynamical systems are described by an equation of the form:\n",
        "\n",
        "$\\dot{x} = a x$\n",
        "\n",
        "where $a$ is a scalar constant and $x$ is a scalar variable. The solution for the above differential equation, which will give us an expression for how $x$ evolves in time, can be obtained:\n",
        "\n",
        "$\\int \\frac{1}{x} \\frac{dx}{dt} \\, dt = \\int a \\, dt $ \n",
        "\n",
        "$\\Rightarrow \\log x = at + C$\n",
        "\n",
        "$\\Rightarrow x(t) = x_0\\exp(at)$\n",
        "\n",
        "where $x_0$ is the **intial condition** of the equation, that is, the value of $x$ at $t=0$. \n",
        "\n",
        "Let's plot this solution over time, for different values of $a$ and $x_0$."
      ]
    },
    {
      "cell_type": "code",
      "metadata": {
        "id": "HhxvaeUIGjz1",
        "cellView": "form"
      },
      "source": [
        "#@title Import dependencies\n",
        "#@markdown Execute this cell\n",
        "import numpy as np\n",
        "import matplotlib.pyplot as plt\n",
        "from scipy.integrate import solve_ivp  # numerical integration solver\n",
        "\n",
        "import ipywidgets as widgets\n",
        "from IPython.display import display\n",
        "%matplotlib inline"
      ],
      "execution_count": null,
      "outputs": []
    },
    {
      "cell_type": "code",
      "metadata": {
        "id": "RWkqS26chY6I",
        "cellView": "form"
      },
      "source": [
        "#@title Widget to Plot 1-D Dynamical System Solutions\n",
        "#@markdown Execute to produce new widget\n",
        "#@markdown Drag sliders to draw new trajectory\n",
        "\n",
        "@widgets.interact(\n",
        "    x0 = widgets.FloatSlider(value=0, min=-1, max=1, description=\"IC\"),\n",
        "    a = widgets.FloatSlider(value=0, min=-2, max=2, description=\"a\"),\n",
        ")\n",
        "def plot_1D(x0, a):\n",
        "  T = 2      # total Time duration\n",
        "  dt = 0.001  # timestep of our simulation\n",
        "  t = np.arange(0, T, dt) # time vector\n",
        "\n",
        "  x = x0*np.exp(a*t)\n",
        "\n",
        "  fig = plt.figure(figsize=(8,6))\n",
        "  ax = fig.add_subplot(111)\n",
        "  ax.set_ylim([-3,3])\n",
        "  ax.set_xlabel(\"t\")\n",
        "  ax.set_ylabel(\"x\")\n",
        "  ax.set_title(\"Trajectory of the 1D Dynamical System.\")\n",
        "  ax.plot(t,x)\n",
        "\n",
        "  fig.canvas.draw()\n"
      ],
      "execution_count": null,
      "outputs": []
    },
    {
      "cell_type": "markdown",
      "metadata": {
        "id": "idrMn36_PUoD"
      },
      "source": [
        "## Forward Euler Integration\n",
        "\n",
        "In practice, differential equations are usually much more complex than the one-dimensional linear example above, and finding the analytical solution of $x(t)$ is not as straightforward. A common approach is to compute the solution to the equation numerically. To do so, we model time as a series of time steps $t_0, t_1, t_2, ...$, such that $t_{i+1} = t_i + dt$. Over a small time interval $dt$, we can get the corresponding change $dx$ from the definition of the differential:\n",
        "\n",
        "$ \\dot{x} = \\frac{dx}{dt} \\Rightarrow dx = \\dot{x} \\, dt$\n",
        "\n",
        "So, at each time step  $t_i$ , we compute approximate the value of $x(t_i)$ as the sum of the value of  $x$  at the previous time step,  $x(t_{i−1})$,  and the small change over the timestep  $dx=\\dot x dt$:\n",
        "\n",
        "\n",
        "$$ x(t_i) = x(t_{i-1}) + \\dot x(t_{i-1}) dt. $$\n",
        "\n",
        "This very simple integration scheme, known as **forward Euler integration**, works well if  $dt$  is small and the ordinary differential equation is simple. It can run into issues when the ordinary differential equation is very noisy or when the dynamics include sudden big changes of  $x$. Such big jumps can occur, for example, in models of excitable neurons. In such cases, one needs to choose an integration scheme carefully. Note that differential equation solvers like *ode45* in MATLAB and *solve_ivp* in Python's scipy package use numerical methods similar in spirit to forward Euler integration, but which compute a higher order approximation of $dx$ (they evaluate $\\dot x$ at several points, not just once at $t_{i−1}$ as we did here)."
      ]
    },
    {
      "cell_type": "markdown",
      "metadata": {
        "id": "JtU-wbowSQKt"
      },
      "source": [
        "# The Pendulum: A Simple Dynamical System in Two Dimensions\n",
        "\n",
        "## Description\n",
        "\n",
        "The motion of a pendulum is a nice dynamical system to study since its behavior is intuitive. The parameters related to a pendulum's movement are shown in Figure 1. A point mass $m$ is connected by a rigid rod of length $L$ to a fixed point $P$. The point mass is subject to a gravitational constant of acceleration $g$. Finally, the angle of the pendulum is given by $\\theta$.\n",
        "\n",
        "<img src=\"https://www.acs.psu.edu/drussell/Demos/Pendulum/Pendulum.gif\" style=\"width:100%\"><figcaption align=\"left\"> Figure 1 - Pendulum System. </figcaption>\n",
        "\n",
        "The motion of the pendulum comes from physics first principles and can be described by the following dynamical system:\n",
        "\n",
        "$$ \\begin{array} \\dot \\dot x_1 = x_2 \\\\ \\dot x_2 = -\\frac{g}{L} \\sin(x_1),\n",
        "\\end{array}$$\n",
        "\n",
        "where the state variables $x_1$ and $x_2$ correspond to $\\theta$ and $\\dot \\theta$ respectively. Let's investigate these equations a bit further. The first equation $\\dot x_1 = x_2$ is just equivalent to saying $\\dot \\theta = \\dot \\theta$. This is always true regardless of the rules which govern the movement of the pendulum! The second equation is equivalent to writing $\\ddot \\theta = -\\frac{g}{L} \\sin(\\theta)$. This is where the physics of the system come into play. Notice how the dynamical system we wrote actually describes a second-order differential equation!"
      ]
    },
    {
      "cell_type": "markdown",
      "metadata": {
        "id": "47JqY7Pc6dhR"
      },
      "source": [
        "## Simulation\n",
        "\n",
        "We have a dynamical system in hand, so we're probably interested in what the trajectories look like. How does the pendulum's angular position ($x_1 = \\theta$) and angular velocity ($x_2 = \\dot \\theta$) evolve through time if we were to initialize the system with certain initial conditions? A cooler way of saying the same thing is how does our dynamical system evolve through its **state space**? In this case, the initial conditions would be the initial angle of the pendulum (denoted $x_1(0)$) and the initial angular velocity of the pendulum (denoted $x_2(0)$). Once we start the system with some initial conditions, the rules of physics take over and the pendulum updates based on our dynamical equation."
      ]
    },
    {
      "cell_type": "markdown",
      "metadata": {
        "id": "xsgC2f3p9yq7"
      },
      "source": [
        "### Quiver Plots\n",
        "\n",
        "Quiver plots are useful tools for understanding **time-invariant** systems like that of the pendulum. Time-invariance just means that the dynamical system's update equations do not depend on time (except in the derivative). We only need to know the pendulum's instantaneous angle and velocity, which are stored in the state variables $x_1$ and $x_2$, to know how these quantities are changing over time. Quiver plots represent this information by plotting vectors in state space which represent the derivative of the state variables.\n",
        "\n",
        "Let's see what this actually looks like for our pendulum example."
      ]
    },
    {
      "cell_type": "code",
      "metadata": {
        "id": "sYf3JmufYknW",
        "cellView": "form"
      },
      "source": [
        "#@title Import Dependencies\n",
        "#@markdown Execute this cell\n",
        "from matplotlib import pyplot as plt\n",
        "from numpy.random import rand\n",
        "import numpy as np\n",
        "from scipy.integrate import odeint\n",
        "\n",
        "import ipywidgets as widgets\n",
        "from IPython.display import display\n",
        "%matplotlib inline"
      ],
      "execution_count": null,
      "outputs": []
    },
    {
      "cell_type": "code",
      "metadata": {
        "id": "Q20U8dT1syFx"
      },
      "source": [
        "# parameters for quiver plot visualization\n",
        "xmin=-5\n",
        "xmax=5\n",
        "ymin=-5\n",
        "ymax=5"
      ],
      "execution_count": null,
      "outputs": []
    },
    {
      "cell_type": "code",
      "metadata": {
        "id": "dw5H_-oPA9sJ"
      },
      "source": [
        "# function that returns the derivative of a pendulum's dynamical system \n",
        "# at a given point x, t\n",
        "def f_pend(x,t):\n",
        "\n",
        "  # state variables (x passed in as a vector)\n",
        "  x1 = x[0]\n",
        "  x2 = x[1]\n",
        "\n",
        "  # dynamics\n",
        "  g=1 # just set to unity\n",
        "  l=1 # just set to unity\n",
        "  dx1dt=x2\n",
        "  dx2dt=-(g/l)*np.sin(x1)\n",
        "  \n",
        "  # return output as a vector\n",
        "  return np.array([dx1dt,dx2dt])"
      ],
      "execution_count": null,
      "outputs": []
    },
    {
      "cell_type": "code",
      "metadata": {
        "id": "RLsmpryYtSYL",
        "cellView": "form"
      },
      "source": [
        "#@title Plot Quiver\n",
        "#@markdown Execute this cell\n",
        "fig = plt.figure(figsize=(8,6))\n",
        "ax = fig.add_subplot(111)\n",
        "ax.set_xlim([xmin,xmax])\n",
        "ax.set_ylim([ymin,ymax])\n",
        "ax.set_title(\"Quiver Plot of Pendulum Dynamical System\")\n",
        "ax.set_xlabel(\"x_1\")\n",
        "ax.set_ylabel(\"x_2\")\n",
        "\n",
        "y1 = np.linspace(xmin, xmax, 20)\n",
        "y2 = np.linspace(ymin, ymax, 20)\n",
        "Y1, Y2 = np.meshgrid(y1, y2)\n",
        "u, v = np.zeros(Y1.shape), np.zeros(Y2.shape)\n",
        "NI, NJ = Y1.shape\n",
        "for i in range(NI):\n",
        "  for j in range(NJ):\n",
        "    x = Y1[i, j]\n",
        "    y = Y2[i, j]\n",
        "    yprime = f_pend([x, y], 0)\n",
        "    u[i,j] = yprime[0]\n",
        "    v[i,j] = yprime[1]\n",
        "ax.quiver(Y1, Y2, u, v, color='gray')\n",
        "plt.show()"
      ],
      "execution_count": null,
      "outputs": []
    },
    {
      "cell_type": "markdown",
      "metadata": {
        "id": "SixMDjo_uK9J"
      },
      "source": [
        "### Plotting Trajectories\n",
        "\n",
        "Quiver plots give some idea of how the dynamical system updates, but we would like to see individual trajectories corresponding to specific initial conditions. Using **forward Euler Integration** or other numerical methods, we can solve forward from an initial condition to get these trajectories. Plotting individual trajectories over a quiver plot gives a nice visualization of the behavior of a dynamical system that can help build intuition."
      ]
    },
    {
      "cell_type": "code",
      "metadata": {
        "id": "ru8ZjroUwxRl"
      },
      "source": [
        "# forward Euler solver\n",
        "\n",
        "# inputs: f is a function which describes the dynamical system\n",
        "#       : ic is an np.array of the initial condition\n",
        "#       : t is the time vector over which the simulation should occur...\n",
        "#       note that the first element of t is the initial time\n",
        "\n",
        "# outputs: x is the numerical solution to the simulation\n",
        "def euler_solver(f, ic, t):\n",
        "\n",
        "  # initialize array to store simulation solution\n",
        "  x = np.zeros((len(t), len(ic)))\n",
        "  x[0,:] = ic\n",
        "\n",
        "  # iterate over simulation steps\n",
        "  for ii in range(1, len(t)):\n",
        "\n",
        "    # calculate derivative from previous time step\n",
        "    x_dot = f(x[ii-1,:], t[ii-1])\n",
        "\n",
        "    # calculate current time step & add to array\n",
        "    dx = x_dot * (t[ii]-t[ii-1])\n",
        "    x[ii,:] = x[ii-1,:] + dx\n",
        "  \n",
        "  return x"
      ],
      "execution_count": null,
      "outputs": []
    },
    {
      "cell_type": "code",
      "metadata": {
        "id": "7T1cLYLiCXzk"
      },
      "source": [
        "# parameters for quiver plot visualization\n",
        "xmin=-5\n",
        "xmax=5\n",
        "ymin=-5\n",
        "ymax=5\n",
        "\n",
        "# parameters for simulation\n",
        "T = 20      # total Time duration\n",
        "dt = 0.005  # timestep of our simulation\n",
        "t = np.arange(0, T, dt) # time vector"
      ],
      "execution_count": null,
      "outputs": []
    },
    {
      "cell_type": "code",
      "metadata": {
        "id": "X_kMZzrlzdAW",
        "cellView": "form"
      },
      "source": [
        "#@title Trajectory Plotting Widget\n",
        "#@markdown Run this section to visualize trajectories. Use the sliders to change the initial conditions.\n",
        "\n",
        "#@markdown Hit \"Run Interact\" to generate its corresponding trajectory. Run the section again to clear the output.\n",
        "\n",
        "#@markdown Are the trajectories for Python's solver and your solver the same?\n",
        "\n",
        "#@markdown What happens if you vary the value of dt?\n",
        "\n",
        "# global variable to store trajectories\n",
        "trajectories_package = []\n",
        "trajectories_euler = []\n",
        "\n",
        "def plot_trajectory(x_init, y_init, f, t, xmin, xmax, ymin, ymax):\n",
        "  # update new trajectory, append to global variable\n",
        "  solution=odeint(f,[x_init, y_init],t)\n",
        "  solution_euler=euler_solver(f, np.array([x_init, y_init]),t)\n",
        "\n",
        "  global trajectories_package\n",
        "  global trajectories_euler\n",
        "  trajectories_package.append(solution)\n",
        "  trajectories_euler.append(solution_euler)\n",
        "  \n",
        "  # replot all solutions\n",
        "  fig = plt.figure(figsize=(16,6))\n",
        "  ax1 = fig.add_subplot(121)\n",
        "  ax2 = fig.add_subplot(122)\n",
        "  ax1.set_xlim([xmin,xmax])\n",
        "  ax1.set_ylim([ymin,ymax])\n",
        "  ax1.set_xlabel(\"x_1\")\n",
        "  ax1.set_ylabel(\"x_2\")\n",
        "  ax1.set_title(\"Python Numerical Solver\")\n",
        "  ax2.set_xlim([xmin,xmax])\n",
        "  ax2.set_ylim([ymin,ymax])\n",
        "  ax2.set_xlabel(\"x_1\")\n",
        "  ax2.set_ylabel(\"x_2\")\n",
        "  ax2.set_title(\"Forward Euler Implementation\")\n",
        "\n",
        "  # plot quiver\n",
        "  y1 = np.linspace(xmin, xmax, 20)\n",
        "  y2 = np.linspace(ymin, ymax, 20)\n",
        "  Y1, Y2 = np.meshgrid(y1, y2)\n",
        "  u, v = np.zeros(Y1.shape), np.zeros(Y2.shape)\n",
        "  NI, NJ = Y1.shape\n",
        "  for i in range(NI):\n",
        "    for j in range(NJ):\n",
        "      x = Y1[i, j]\n",
        "      y = Y2[i, j]\n",
        "      yprime = f_pend([x, y], 0)\n",
        "      u[i,j] = yprime[0]\n",
        "      v[i,j] = yprime[1]\n",
        "  ax1.quiver(Y1, Y2, u, v, color='gray')\n",
        "  ax2.quiver(Y1, Y2, u, v, color='gray')\n",
        "\n",
        "  # plot all trajectories\n",
        "  for trajectory in trajectories_package:\n",
        "    ax1.plot(trajectory[:,0],trajectory[:,1],'b')\n",
        "    ax1.plot(trajectory[0,0],trajectory[0,1],'r.')\n",
        "  for trajectory in trajectories_euler:\n",
        "    ax2.plot(trajectory[:,0],trajectory[:,1],'b')\n",
        "    ax2.plot(trajectory[0,0],trajectory[0,1],'r.')\n",
        "  fig.canvas.draw()\n",
        "\n",
        "# interactive widget that plots new trajectories on a quiver plot\n",
        "@widgets.interact_manual(\n",
        "    x_1 = widgets.FloatSlider(value=np.floor((xmin+xmax)/2), min=xmin, max=xmax, description=\"x_1 init\"),\n",
        "    x_2 = widgets.FloatSlider(value=np.floor((ymin+ymax)/2), min=ymin, max=ymax, description=\"x_2 init\"),\n",
        ")\n",
        "def plot(x_1, x_2):\n",
        "  plot_trajectory(x_1, x_2, f_pend, t, xmin, xmax, ymin, ymax)"
      ],
      "execution_count": null,
      "outputs": []
    },
    {
      "cell_type": "markdown",
      "metadata": {
        "id": "2B8d2FCa7_A9"
      },
      "source": [
        "## A Slight Variation: Adding Friction\n",
        "\n",
        "So far, we were considering the pendulum in the absence of friction. If we add friction to the system, it is described by the following dynamical system with an extra frictional term:\n",
        "\n",
        "$$ \\begin{array} \\dot \\dot x_1 = x_2 \\\\ \\dot x_2 = -\\frac{k}{m} x_2 -\\frac{g}{L} \\sin(x_1),\n",
        "\\end{array}$$\n",
        "\n",
        "where $k$ is a coefficient of friction. Intuitively, we would expect that pendulum's motion would eventually stabilize at the origin (no angular velocity and the angular position being zero). Let's see what the dynamics say."
      ]
    },
    {
      "cell_type": "code",
      "metadata": {
        "id": "mz8UFTqY8HcC"
      },
      "source": [
        "def f_pend_fric(x,t):\n",
        "\n",
        "  # state variables\n",
        "  x1 = x[0]\n",
        "  x2 = x[1]\n",
        "\n",
        "  # dynamics\n",
        "  m=1\n",
        "  k=0.5\n",
        "  g=1\n",
        "  l=1\n",
        "  dx1dt=x2\n",
        "  dx2dt= -(k/m)*x2 - (g/l)*np.sin(x1)\n",
        "  \n",
        "  return np.array([dx1dt,dx2dt])"
      ],
      "execution_count": null,
      "outputs": []
    },
    {
      "cell_type": "code",
      "metadata": {
        "id": "rrMn34yJ_NXJ"
      },
      "source": [
        "# parameters for quiver plot visualization\n",
        "xmin=-5\n",
        "xmax=5\n",
        "ymin=-5\n",
        "ymax=5\n",
        "\n",
        "# parameters for simulation\n",
        "T = 20      # total Time duration\n",
        "dt = 0.005  # timestep of our simulation\n",
        "t = np.arange(0, T, dt) # time vector"
      ],
      "execution_count": null,
      "outputs": []
    },
    {
      "cell_type": "code",
      "metadata": {
        "cellView": "form",
        "id": "Xj1p1ec4_RlO"
      },
      "source": [
        "#@title Trajectory Plotting Widget\n",
        "#@markdown Run this section to visualize trajectories. Use the sliders to change the initial conditions.\n",
        "\n",
        "#@markdown Hit \"Run Interact\" to generate its corresponding trajectory. Run the section again to clear the output.\n",
        "\n",
        "#@markdown To minimize ambiguity, each trajectory is plotted alone this time.\n",
        "\n",
        "def plot_trajectory(x_init, y_init, f, t, xmin, xmax, ymin, ymax):\n",
        "  # update new trajectory, append to global variable\n",
        "  solution=odeint(f,[x_init, y_init],t)\n",
        "  solution_euler=euler_solver(f, np.array([x_init, y_init]),t)\n",
        "  \n",
        "  # replot all solutions\n",
        "  fig = plt.figure(figsize=(16,6))\n",
        "  ax1 = fig.add_subplot(121)\n",
        "  ax2 = fig.add_subplot(122)\n",
        "  ax1.set_xlim([xmin,xmax])\n",
        "  ax1.set_ylim([ymin,ymax])\n",
        "  ax1.set_xlabel(\"x_1\")\n",
        "  ax1.set_ylabel(\"x_2\")\n",
        "  ax1.set_title(\"Python Numerical Solver\")\n",
        "  ax2.set_xlim([xmin,xmax])\n",
        "  ax2.set_ylim([ymin,ymax])\n",
        "  ax2.set_xlabel(\"x_1\")\n",
        "  ax2.set_ylabel(\"x_2\")\n",
        "  ax2.set_title(\"Forward Euler Implementation\")\n",
        "\n",
        "  # plot quiver\n",
        "  y1 = np.linspace(xmin, xmax, 20)\n",
        "  y2 = np.linspace(ymin, ymax, 20)\n",
        "  Y1, Y2 = np.meshgrid(y1, y2)\n",
        "  u, v = np.zeros(Y1.shape), np.zeros(Y2.shape)\n",
        "  NI, NJ = Y1.shape\n",
        "  for i in range(NI):\n",
        "    for j in range(NJ):\n",
        "      x = Y1[i, j]\n",
        "      y = Y2[i, j]\n",
        "      yprime = f_pend_fric([x, y], 0)\n",
        "      u[i,j] = yprime[0]\n",
        "      v[i,j] = yprime[1]\n",
        "  ax1.quiver(Y1, Y2, u, v, color='gray')\n",
        "  ax2.quiver(Y1, Y2, u, v, color='gray')\n",
        "\n",
        "  # plot all trajectories\n",
        "  ax1.plot(solution[:,0],solution[:,1],'b')\n",
        "  ax1.plot(solution[0,0],solution[0,1],'r.')\n",
        "\n",
        "  ax2.plot(solution_euler[:,0],solution_euler[:,1],'b')\n",
        "  ax2.plot(solution_euler[0,0],solution_euler[0,1],'r.')\n",
        "  fig.canvas.draw()\n",
        "\n",
        "\n",
        "# interactive widget that plots new trajectories on a quiver plot\n",
        "@widgets.interact_manual(\n",
        "    x_1 = widgets.FloatSlider(value=np.floor((xmin+xmax)/2), min=xmin, max=xmax, description=\"x_1 init\"),\n",
        "    x_2 = widgets.FloatSlider(value=np.floor((ymin+ymax)/2), min=ymin, max=ymax, description=\"x_2 init\"),\n",
        ")\n",
        "def plot(x_1, x_2):\n",
        "  plot_trajectory(x_1, x_2, f_pend_fric, t, xmin, xmax, ymin, ymax)"
      ],
      "execution_count": null,
      "outputs": []
    },
    {
      "cell_type": "markdown",
      "metadata": {
        "id": "-mMrY30I03KF"
      },
      "source": [
        "# Dynamical Systems in Computational Neuroscience\n",
        "\n",
        "## Computation Through Neural Population Dynamics\n",
        "\n",
        "How do these concepts of dynamical systems apply to neuroscience? \n",
        "\n",
        "The Computation Through Dynamics framework states that though the activity of individual neurons is subject to variability, the activity of populations of neurons is more consistent, and evolves across time according to internal dynamics. The dynamics of a latent state $z(t)$ (usually of lower dimension than the number of neurons) are distributed across the firing rates $x(t)$ of a population of neurons to carry out computations which result in a certain output behavior. The dynamics of the latent state are described as follows:\n",
        "\n",
        "$\\dot{\\mathbf{z}} = f(\\mathbf{z},\\mathbf{u})$\n",
        "\n",
        "Where $u(t)$ are external inputs to the system (e.g. neuron projections from other brain areas) which influence the time evolution of the state. For simplicity of this demo, we are going to ignore the effect of these external inputs, and model the dynamics of the latent state as:\n",
        "\n",
        "$\\dot{\\mathbf{z}} = f(\\mathbf{z})$\n",
        "\n",
        "The above equation corresponds to **autonomous dynamics**, that is, a dynamical system which does not depend on external inputs, so the time evolution of the state can be entirely predicted from its initial conditions. Though this behavior has been observed in some brain areas during certain types of tasks, it is not usually the case. \n",
        "\n",
        "In turn, the relation between the latent state and individual firing rates is given as follows:\n",
        "\n",
        "$\\mathbf{x}(t) = W \\mathbf{z}(t)$\n",
        "\n",
        "Where $W$ is a readout matrix that maps the individual firing rate for all neurons from the population latent state $z(t)$.\n",
        "\n",
        "We will now show a brief demo of how this would look in practice, for a neuron population exhibiting autonomous dynamics."
      ]
    },
    {
      "cell_type": "markdown",
      "metadata": {
        "id": "Jnk8S7MU8KKg"
      },
      "source": [
        "## Model\n",
        "\n",
        "We define the latent dynamics which governs the activity of a specific population of neurons as follows:\n",
        "\n",
        "$ \\dot{\\mathbf{z}} = \\begin{bmatrix} 0 & 2 \\\\ -2 & 0\n",
        "\\end{bmatrix}\\begin{bmatrix} z_1 \\\\ z_2\n",
        "\\end{bmatrix} + \\text{offset} $\n",
        "\n",
        "Where the offset term is added such that the latent state has positive values (so it doesn't map onto negative firing rates). Note the similarities of the above matrix with the dynamical system we defined earlier for the pendulum.\n",
        "\n",
        "As mentioned before, the dimension of the latent state $\\mathbf{z}(t)$ is usually lower than the number of neurons in the population. In this case, we will have $N=3$ neurons in the population. Let's map the relation between the latent state $\\mathbf{z}(t)$ and resulting firing rate of each neuron $\\mathbf{x}(t)$ as follows:\n",
        "\n",
        "$\\mathbf{x} = \\begin{bmatrix} x_1 \\\\ x_2 \\\\ x_3\n",
        "\\end{bmatrix} = \\begin{bmatrix} 1 & 0 \\\\ 0 & 1 \\\\ 1 & 1\n",
        "\\end{bmatrix}\\begin{bmatrix} z_1 \\\\ z_2\n",
        "\\end{bmatrix}$\n",
        "\n",
        "And lastly, we model individual neuron spiking as a Poisson process with rate $x(t)$ at a given time. That is, for a given sample $t$ and bin size $T$, the number of spikes $N$ in that given time bin is defined by the following probability distribution:\n",
        "\n",
        "$P[N=n] = \\frac{(x(t) T)^n}{n!} e^{-x(t) T}$"
      ]
    },
    {
      "cell_type": "code",
      "metadata": {
        "id": "Lsv1RdR1Yiws"
      },
      "source": [
        "# Define dynamics for latent state\n",
        "def f(z):\n",
        "\n",
        "    dz1dt=2*z[1] - 8\n",
        "    dz2dt=-2*z[0] + 8\n",
        "    \n",
        "    dzdt = np.array([dz1dt,dz2dt])\n",
        "\n",
        "    return dzdt\n",
        "\n",
        "\n",
        "# Define readout matrix\n",
        "W = np.array([[1, 0],[0, 1],[1, 1]])\n",
        "\n",
        "\n",
        "# Generate spike trains from firing rates, for severals trials\n",
        "def generate_spikes(x,dt,trials):\n",
        "  \n",
        "  x_N = np.tile(x, (trials ,1, 1))\n",
        "  spikes = np.random.poisson(x_N*dt)\n",
        "  \n",
        "  return spikes"
      ],
      "execution_count": null,
      "outputs": []
    },
    {
      "cell_type": "markdown",
      "metadata": {
        "id": "l69KV7MRSKio"
      },
      "source": [
        "Let's assume that different task conditions (e.g. reaching with your arm to the left v/s reaching to the right) are represented by specific initial conditions of the latent state. Let's simulate the resulting population spikes for a certain initial condition:"
      ]
    },
    {
      "cell_type": "code",
      "metadata": {
        "id": "LeqJGtxTSGXN",
        "cellView": "form"
      },
      "source": [
        "#@title Population Spiking for IC1\n",
        "#@markdown Execute this cell\n",
        "\n",
        "dt = 0.001\n",
        "t = np.arange(0,1,dt)\n",
        "\n",
        "# initial condition 1\n",
        "z1_0 = np.array([[2, 4]])\n",
        "\n",
        "# Euler integration to generate latent state trayectory\n",
        "z1 = np.zeros((2,t.shape[0]))\n",
        "for i, ti in enumerate(t):\n",
        "  if i == 0:\n",
        "    z1[:,i] = z1_0\n",
        "  else:\n",
        "    z1[:,i] = z1[:,i-1] + dt*f(z1[:,i-1])\n",
        "\n",
        "# Map latent state to neuron firing rates\n",
        "x1 = np.dot(W,z1)\n",
        "\n",
        "# Seed for random data\n",
        "np.random.seed(2021)\n",
        "\n",
        "trials = 10\n",
        "\n",
        "# Generate spikes\n",
        "spikes1 = generate_spikes(x1,dt,trials)\n",
        "\n",
        "fig, axs = plt.subplots(1, 3, figsize=(15,6))\n",
        "for n in range(W.shape[0]):\n",
        "  for t in range(trials):\n",
        "    spike_times = np.nonzero(spikes1[t,n])\n",
        "    axs[n].eventplot(spike_times[0]*dt, lineoffsets=t)\n",
        "    axs[n].set_xlabel('Time [s]')\n",
        "    axs[n].set_ylabel('Trial #')\n",
        "    axs[n].set_title('Neuron {}'.format(n+1))\n",
        "fig.suptitle('Population spike trains for first initial condition')\n",
        "plt.show()\n"
      ],
      "execution_count": null,
      "outputs": []
    },
    {
      "cell_type": "markdown",
      "metadata": {
        "id": "Sdz_0WsWT7Xi"
      },
      "source": [
        "Note that there is significant variability from trial to trial. Moreover, it is hard to make out the underlying fire rates (this is why it is common procedure to average and smooth the spike trains among several trials). \n",
        "\n",
        "Repeating for a different initial condition in the latent state:"
      ]
    },
    {
      "cell_type": "code",
      "metadata": {
        "id": "fLFH3ZukZzi8",
        "cellView": "form"
      },
      "source": [
        "#@title Population Spiking for IC2\n",
        "#@markdown Execute this cell\n",
        "\n",
        "dt = 0.001\n",
        "t = np.arange(0,1,dt)\n",
        "\n",
        "# initial condition 2\n",
        "z2_0 = np.array([[6, 4]])\n",
        "\n",
        "# Euler integration to generate latent state trayectory\n",
        "z2 = np.zeros((2,t.shape[0]))\n",
        "for i, ti in enumerate(t):\n",
        "  if i == 0:\n",
        "    z2[:,i] = z2_0\n",
        "  else:\n",
        "    z2[:,i] = z2[:,i-1] + dt*f(z2[:,i-1])\n",
        "\n",
        "# Map latent state to neuron firing rates\n",
        "x2 = np.dot(W,z2)\n",
        "\n",
        "# Seed for random data\n",
        "np.random.seed(2021)\n",
        "\n",
        "trials = 10\n",
        "\n",
        "# Generate spikes\n",
        "spikes2 = generate_spikes(x2,dt,trials)\n",
        "\n",
        "fig, axs = plt.subplots(1, 3, figsize=(15,6))\n",
        "for n in range(W.shape[0]):\n",
        "  for t in range(trials):\n",
        "    spike_times = np.nonzero(spikes2[t,n])\n",
        "    axs[n].eventplot(spike_times[0]*dt, lineoffsets=t)\n",
        "    axs[n].set_xlabel('Time [s]')\n",
        "    axs[n].set_ylabel('Trial #')\n",
        "    axs[n].set_title('Neuron {}'.format(n+1))\n",
        "fig.suptitle('Population spike trains for second initial condition')\n",
        "plt.show()"
      ],
      "execution_count": null,
      "outputs": []
    },
    {
      "cell_type": "markdown",
      "metadata": {
        "id": "NZJ-Qb-iQI-p"
      },
      "source": [
        "Again, there is a lot of variability among trials, and it is hard to uncover the underlying firing rates. We do see some differences in the overall firing frequencies of neurons 1 and 2 for this condition compared to previous one, but that's about it. \n",
        "\n",
        "What if we analyzed the activity of this neuron population through the underlying dynamics which generated these spike trains?"
      ]
    },
    {
      "cell_type": "code",
      "metadata": {
        "id": "Vv0mpCL3M-D6",
        "cellView": "form"
      },
      "source": [
        "#@title Plot Quiver and Trajectories\n",
        "xmin=0\n",
        "xmax=8\n",
        "ymin=0\n",
        "ymax=8\n",
        "\n",
        "\n",
        "fig = plt.figure(figsize=(8,6))\n",
        "ax = fig.add_subplot(111)\n",
        "ax.set_xlim([xmin,xmax])\n",
        "ax.set_ylim([ymin,ymax])\n",
        "ax.set_title(\"Trajectory of latent state for both conditions\")\n",
        "ax.set_xlabel(\"z_1\")\n",
        "ax.set_ylabel(\"z_2\")\n",
        "\n",
        "y1 = np.linspace(xmin, xmax, 20)\n",
        "y2 = np.linspace(ymin, ymax, 20)\n",
        "Y1, Y2 = np.meshgrid(y1, y2)\n",
        "u, v = np.zeros(Y1.shape), np.zeros(Y2.shape)\n",
        "NI, NJ = Y1.shape\n",
        "for i in range(NI):\n",
        "  for j in range(NJ):\n",
        "    x = Y1[i, j]\n",
        "    y = Y2[i, j]\n",
        "    z = np.array([x,y])\n",
        "    yprime = f([x, y])\n",
        "    u[i,j] = yprime[0]\n",
        "    v[i,j] = yprime[1]\n",
        "ax.quiver(Y1, Y2, u, v, color='gray')\n",
        "\n",
        "plt.plot(z1[0,0],z1[1,0],'bo')\n",
        "plt.plot(z1[0,:],z1[1,:],'b')\n",
        "plt.plot(z1[0,-1],z1[1,-1],'bx')\n",
        "\n",
        "plt.plot(z2[0,0],z2[1,0],'ro')\n",
        "plt.plot(z2[0,:],z2[1,:],'r')\n",
        "plt.plot(z2[0,-1],z2[1,-1],'rx')\n",
        "\n",
        "plt.show()"
      ],
      "execution_count": null,
      "outputs": []
    },
    {
      "cell_type": "markdown",
      "metadata": {
        "id": "2RZV5LfaIkja"
      },
      "source": [
        "If we directly look at evolution of the latent state, we observe structured trajectories that are clearly distinguishable for both conditions, which was not the case when observing the individual neuron spikes. This is expected, since we modeled the system as so. \n",
        "\n",
        "Also, since this neural population was modeled as an autonomous system, if we were able to uncover the dynamics and initial conditions of the latent state for a specific trial (which we assumed as known for this demo), the trajectory of the latent state, and thus population firing rates (which are modeled as a linear mapping from the latent state) could be predicted on a trial-by-trial basis! \n",
        "\n",
        "It is clear then that, when possible, there are several benefits to representing the activity of a population of neurons as a dynamical system. This framework allows us to represent the noisy activity of a population of neurons as a lower-dimensional, more constrained time-evolving state.\n",
        "\n",
        "Some questions come to mind though:\n",
        "*   How do we know if a dynamical system is a good model for the activity of specific population of neuron?\n",
        "*   If the above is true, how do we uncover these neural population dynamics?\n",
        "*   How do we obtain the initial condition of the latent state in practice?\n",
        "*   What if communication with other brain areas is relevant, how do we model the external inputs $u(t)$?\n",
        "\n",
        "Current research on this topic focuses on the above questions. For further reading, we suggest the following review article which goes over some of these works: https://web.stanford.edu/~mgolub/publications/2020-Vyas-ARN.pdf"
      ]
    }
  ]
}